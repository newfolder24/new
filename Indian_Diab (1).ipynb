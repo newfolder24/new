{
 "cells": [
  {
   "cell_type": "code",
   "execution_count": 1,
   "id": "c8b490f9",
   "metadata": {},
   "outputs": [],
   "source": [
    "import pandas as pd\n",
    "from scipy import stats\n",
    "from sklearn.linear_model import LinearRegression\n",
    "from sklearn.model_selection import train_test_split\n",
    "from sklearn.linear_model import LogisticRegression"
   ]
  },
  {
   "cell_type": "code",
   "execution_count": 2,
   "id": "a17b4d4e",
   "metadata": {},
   "outputs": [],
   "source": [
    "pima_data = pd.read_csv('C:\\Datasetsml\\diabetes.csv')"
   ]
  },
  {
   "cell_type": "code",
   "execution_count": 3,
   "id": "ac04c544",
   "metadata": {},
   "outputs": [
    {
     "name": "stdout",
     "output_type": "stream",
     "text": [
      "Summary Stats:\n",
      "        Pregnancies     Glucose  BloodPressure  SkinThickness     Insulin  \\\n",
      "count   768.000000  768.000000     768.000000     768.000000  768.000000   \n",
      "mean      3.845052  120.894531      69.105469      20.536458   79.799479   \n",
      "std       3.369578   31.972618      19.355807      15.952218  115.244002   \n",
      "min       0.000000    0.000000       0.000000       0.000000    0.000000   \n",
      "25%       1.000000   99.000000      62.000000       0.000000    0.000000   \n",
      "50%       3.000000  117.000000      72.000000      23.000000   30.500000   \n",
      "75%       6.000000  140.250000      80.000000      32.000000  127.250000   \n",
      "max      17.000000  199.000000     122.000000      99.000000  846.000000   \n",
      "\n",
      "              BMI  DiabetesPedigreeFunction         Age     Outcome  \n",
      "count  768.000000                768.000000  768.000000  768.000000  \n",
      "mean    31.992578                  0.471876   33.240885    0.348958  \n",
      "std      7.884160                  0.331329   11.760232    0.476951  \n",
      "min      0.000000                  0.078000   21.000000    0.000000  \n",
      "25%     27.300000                  0.243750   24.000000    0.000000  \n",
      "50%     32.000000                  0.372500   29.000000    0.000000  \n",
      "75%     36.600000                  0.626250   41.000000    1.000000  \n",
      "max     67.100000                  2.420000   81.000000    1.000000  \n",
      "\n",
      "Mode:\n",
      " Pregnancies                  1.000\n",
      "Glucose                     99.000\n",
      "BloodPressure               70.000\n",
      "SkinThickness                0.000\n",
      "Insulin                      0.000\n",
      "BMI                         32.000\n",
      "DiabetesPedigreeFunction     0.254\n",
      "Age                         22.000\n",
      "Outcome                      0.000\n",
      "Name: 0, dtype: float64\n",
      "\n",
      "Skewness:\n",
      " Pregnancies                 0.901674\n",
      "Glucose                     0.173754\n",
      "BloodPressure              -1.843608\n",
      "SkinThickness               0.109372\n",
      "Insulin                     2.272251\n",
      "BMI                        -0.428982\n",
      "DiabetesPedigreeFunction    1.919911\n",
      "Age                         1.129597\n",
      "Outcome                     0.635017\n",
      "dtype: float64\n",
      "\n",
      "Kurtosis:\n",
      " Pregnancies                 0.159220\n",
      "Glucose                     0.640780\n",
      "BloodPressure               5.180157\n",
      "SkinThickness              -0.520072\n",
      "Insulin                     7.214260\n",
      "BMI                         3.290443\n",
      "DiabetesPedigreeFunction    5.594954\n",
      "Age                         0.643159\n",
      "Outcome                    -1.600930\n",
      "dtype: float64\n"
     ]
    }
   ],
   "source": [
    "def univariate_analysis(data):\n",
    "    summary = data.describe()  # Get basic stats like mean, std, etc.\n",
    "    mode = data.mode().iloc[0]  # Mode for each column\n",
    "    skewness = data.skew()  # Skewness\n",
    "    kurtosis = data.kurtosis()  # Kurtosis\n",
    "    \n",
    "    print(\"Summary Stats:\\n\", summary)\n",
    "    print(\"\\nMode:\\n\", mode)\n",
    "    print(\"\\nSkewness:\\n\", skewness)\n",
    "    print(\"\\nKurtosis:\\n\", kurtosis)\n",
    "\n",
    "# Apply the analysis\n",
    "univariate_analysis(pima_data)"
   ]
  },
  {
   "cell_type": "code",
   "execution_count": 4,
   "id": "f4ee1f0a",
   "metadata": {},
   "outputs": [
    {
     "name": "stdout",
     "output_type": "stream",
     "text": [
      "Linear Regression Score: 0.06312833080687752\n"
     ]
    }
   ],
   "source": [
    "# Linear Regression - Example (Glucose ~ Age)\n",
    "X_train, X_test, y_train, y_test = train_test_split(pima_data[['Age']], pima_data['Glucose'], test_size=0.3, random_state=42)\n",
    "linear_model = LinearRegression().fit(X_train, y_train)\n",
    "print(\"Linear Regression Score:\", linear_model.score(X_test, y_test))"
   ]
  },
  {
   "cell_type": "code",
   "execution_count": 5,
   "id": "e61409c0",
   "metadata": {},
   "outputs": [
    {
     "name": "stdout",
     "output_type": "stream",
     "text": [
      "Logistic Regression Accuracy: 0.7229437229437229\n"
     ]
    }
   ],
   "source": [
    "# Logistic Regression - Example (Outcome ~ Glucose)\n",
    "X_train, X_test, y_train, y_test = train_test_split(pima_data[['Glucose']], pima_data['Outcome'], test_size=0.3, random_state=42)\n",
    "logistic_model = LogisticRegression().fit(X_train, y_train)\n",
    "print(\"Logistic Regression Accuracy:\", logistic_model.score(X_test, y_test))"
   ]
  },
  {
   "cell_type": "code",
   "execution_count": 6,
   "id": "3587ca0e",
   "metadata": {},
   "outputs": [
    {
     "name": "stdout",
     "output_type": "stream",
     "text": [
      "Multiple Regression Accuracy: 0.7142857142857143\n"
     ]
    }
   ],
   "source": [
    "# Multiple Regression (Outcome ~ multiple features)\n",
    "X = pima_data[['Pregnancies', 'Glucose', 'BloodPressure', 'BMI', 'Age']]\n",
    "y = pima_data['Outcome']\n",
    "\n",
    "X_train, X_test, y_train, y_test = train_test_split(X, y, test_size=0.3, random_state=42)\n",
    "multiple_model = LogisticRegression(max_iter=1000).fit(X_train, y_train)\n",
    "print(\"Multiple Regression Accuracy:\", multiple_model.score(X_test, y_test))"
   ]
  },
  {
   "cell_type": "code",
   "execution_count": null,
   "id": "92c7e3e4",
   "metadata": {},
   "outputs": [],
   "source": []
  }
 ],
 "metadata": {
  "kernelspec": {
   "display_name": "Python 3 (ipykernel)",
   "language": "python",
   "name": "python3"
  },
  "language_info": {
   "codemirror_mode": {
    "name": "ipython",
    "version": 3
   },
   "file_extension": ".py",
   "mimetype": "text/x-python",
   "name": "python",
   "nbconvert_exporter": "python",
   "pygments_lexer": "ipython3",
   "version": "3.11.5"
  }
 },
 "nbformat": 4,
 "nbformat_minor": 5
}
